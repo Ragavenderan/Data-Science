{
 "cells": [
  {
   "cell_type": "markdown",
   "metadata": {},
   "source": [
    "# XML example and exercise\n",
    "****\n",
    "+ study examples of accessing nodes in XML tree structure  \n",
    "+ work on exercise to be completed and submitted\n",
    "****\n",
    "+ reference: https://docs.python.org/2.7/library/xml.etree.elementtree.html\n",
    "+ data source: http://www.dbis.informatik.uni-goettingen.de/Mondial\n",
    "****"
   ]
  },
  {
   "cell_type": "markdown",
   "metadata": {},
   "source": [
    "****\n",
    "## XML exercise\n",
    "\n",
    "Using data in 'data/mondial_database.xml', the examples above, and refering to https://docs.python.org/2.7/library/xml.etree.elementtree.html, find\n",
    "\n",
    "1. 10 countries with the lowest infant mortality rates\n",
    "2. 10 cities with the largest population\n",
    "3. 10 ethnic groups with the largest overall populations (sum of best/latest estimates over all countries)\n",
    "4. name and country of a) longest river, b) largest lake and c) airport at highest elevation"
   ]
  },
  {
   "cell_type": "code",
   "execution_count": 4,
   "metadata": {
    "collapsed": true
   },
   "outputs": [],
   "source": [
    "\n",
    "from xml.etree import ElementTree as ET\n",
    "import pandas as pd\n",
    "import numpy as np\n",
    "document = ET.parse( './data/mondial_database.xml' )\n"
   ]
  },
  {
   "cell_type": "code",
   "execution_count": 5,
   "metadata": {
    "collapsed": false
   },
   "outputs": [
    {
     "name": "stderr",
     "output_type": "stream",
     "text": [
      "C:\\Users\\rvenkat\\AppData\\Local\\Continuum\\Anaconda3\\lib\\site-packages\\ipykernel\\__main__.py:15: FutureWarning: sort(columns=....) is deprecated, use sort_values(by=.....)\n"
     ]
    },
    {
     "data": {
      "text/html": [
       "<div>\n",
       "<table border=\"1\" class=\"dataframe\">\n",
       "  <thead>\n",
       "    <tr style=\"text-align: right;\">\n",
       "      <th></th>\n",
       "      <th>country</th>\n",
       "      <th>infant_mortality</th>\n",
       "    </tr>\n",
       "  </thead>\n",
       "  <tbody>\n",
       "    <tr>\n",
       "      <th>38</th>\n",
       "      <td>Monaco</td>\n",
       "      <td>1.81</td>\n",
       "    </tr>\n",
       "    <tr>\n",
       "      <th>30</th>\n",
       "      <td>Romania</td>\n",
       "      <td>10.16</td>\n",
       "    </tr>\n",
       "    <tr>\n",
       "      <th>153</th>\n",
       "      <td>Fiji</td>\n",
       "      <td>10.2</td>\n",
       "    </tr>\n",
       "    <tr>\n",
       "      <th>69</th>\n",
       "      <td>Brunei</td>\n",
       "      <td>10.48</td>\n",
       "    </tr>\n",
       "    <tr>\n",
       "      <th>132</th>\n",
       "      <td>Grenada</td>\n",
       "      <td>10.5</td>\n",
       "    </tr>\n",
       "    <tr>\n",
       "      <th>237</th>\n",
       "      <td>Mauritius</td>\n",
       "      <td>10.59</td>\n",
       "    </tr>\n",
       "    <tr>\n",
       "      <th>124</th>\n",
       "      <td>Panama</td>\n",
       "      <td>10.7</td>\n",
       "    </tr>\n",
       "    <tr>\n",
       "      <th>243</th>\n",
       "      <td>Seychelles</td>\n",
       "      <td>10.77</td>\n",
       "    </tr>\n",
       "    <tr>\n",
       "      <th>102</th>\n",
       "      <td>United Arab Emirates</td>\n",
       "      <td>10.92</td>\n",
       "    </tr>\n",
       "    <tr>\n",
       "      <th>113</th>\n",
       "      <td>Barbados</td>\n",
       "      <td>10.93</td>\n",
       "    </tr>\n",
       "  </tbody>\n",
       "</table>\n",
       "</div>"
      ],
      "text/plain": [
       "                  country infant_mortality\n",
       "38                 Monaco             1.81\n",
       "30                Romania            10.16\n",
       "153                  Fiji             10.2\n",
       "69                 Brunei            10.48\n",
       "132               Grenada             10.5\n",
       "237             Mauritius            10.59\n",
       "124                Panama             10.7\n",
       "243            Seychelles            10.77\n",
       "102  United Arab Emirates            10.92\n",
       "113              Barbados            10.93"
      ]
     },
     "execution_count": 5,
     "metadata": {},
     "output_type": "execute_result"
    }
   ],
   "source": [
    "#1- 10 countries with the lowest infant mortality rates\n",
    "\n",
    "data = {'country':[], 'infant_mortality':[]}\n",
    "for element in document.iterfind('country'):\n",
    "    data['country'].append(element.find('name').text)\n",
    "    mortality = element.find('infant_mortality')\n",
    "    if mortality is not None:\n",
    "        data['infant_mortality'].append(mortality.text)\n",
    "    else:\n",
    "        data['infant_mortality'].append('')\n",
    "        \n",
    "df = pd.DataFrame(data)\n",
    "df = df.replace('',np.NaN)\n",
    "# find the 10 lowest infant mortality rates\n",
    "df.dropna().sort('infant_mortality').head(10)"
   ]
  },
  {
   "cell_type": "markdown",
   "metadata": {},
   "source": [
    "Exercise 2: 10 Cities with Largest Population"
   ]
  },
  {
   "cell_type": "code",
   "execution_count": 46,
   "metadata": {
    "collapsed": false
   },
   "outputs": [
    {
     "data": {
      "text/html": [
       "<div>\n",
       "<table border=\"1\" class=\"dataframe\">\n",
       "  <thead>\n",
       "    <tr style=\"text-align: right;\">\n",
       "      <th></th>\n",
       "      <th>city</th>\n",
       "      <th>country</th>\n",
       "      <th>population</th>\n",
       "      <th>year</th>\n",
       "      <th>rank</th>\n",
       "    </tr>\n",
       "  </thead>\n",
       "  <tbody>\n",
       "    <tr>\n",
       "      <th>433</th>\n",
       "      <td>Seoul</td>\n",
       "      <td>South Korea</td>\n",
       "      <td>9708483</td>\n",
       "      <td>2010</td>\n",
       "      <td>1</td>\n",
       "    </tr>\n",
       "    <tr>\n",
       "      <th>412</th>\n",
       "      <td>Al Qahirah</td>\n",
       "      <td>Egypt</td>\n",
       "      <td>8471859</td>\n",
       "      <td>2006</td>\n",
       "      <td>1</td>\n",
       "    </tr>\n",
       "    <tr>\n",
       "      <th>204</th>\n",
       "      <td>Bangkok</td>\n",
       "      <td>Thailand</td>\n",
       "      <td>7506700</td>\n",
       "      <td>1999</td>\n",
       "      <td>1</td>\n",
       "    </tr>\n",
       "    <tr>\n",
       "      <th>322</th>\n",
       "      <td>Hong Kong</td>\n",
       "      <td>Hong Kong</td>\n",
       "      <td>7055071</td>\n",
       "      <td>2009</td>\n",
       "      <td>1</td>\n",
       "    </tr>\n",
       "    <tr>\n",
       "      <th>229</th>\n",
       "      <td>Ho Chi Minh</td>\n",
       "      <td>Vietnam</td>\n",
       "      <td>5968384</td>\n",
       "      <td>2009</td>\n",
       "      <td>1</td>\n",
       "    </tr>\n",
       "    <tr>\n",
       "      <th>554</th>\n",
       "      <td>Singapore</td>\n",
       "      <td>Singapore</td>\n",
       "      <td>5076700</td>\n",
       "      <td>2010</td>\n",
       "      <td>1</td>\n",
       "    </tr>\n",
       "    <tr>\n",
       "      <th>409</th>\n",
       "      <td>Al Iskandariyah</td>\n",
       "      <td>Egypt</td>\n",
       "      <td>4123869</td>\n",
       "      <td>2006</td>\n",
       "      <td>1</td>\n",
       "    </tr>\n",
       "    <tr>\n",
       "      <th>566</th>\n",
       "      <td>New Taipei</td>\n",
       "      <td>Taiwan</td>\n",
       "      <td>3939305</td>\n",
       "      <td>2012</td>\n",
       "      <td>1</td>\n",
       "    </tr>\n",
       "    <tr>\n",
       "      <th>437</th>\n",
       "      <td>Busan</td>\n",
       "      <td>South Korea</td>\n",
       "      <td>3403135</td>\n",
       "      <td>2010</td>\n",
       "      <td>1</td>\n",
       "    </tr>\n",
       "    <tr>\n",
       "      <th>270</th>\n",
       "      <td>Pyongyang</td>\n",
       "      <td>North Korea</td>\n",
       "      <td>3255288</td>\n",
       "      <td>2008</td>\n",
       "      <td>1</td>\n",
       "    </tr>\n",
       "  </tbody>\n",
       "</table>\n",
       "</div>"
      ],
      "text/plain": [
       "                city      country  population  year  rank\n",
       "433            Seoul  South Korea     9708483  2010     1\n",
       "412       Al Qahirah        Egypt     8471859  2006     1\n",
       "204          Bangkok     Thailand     7506700  1999     1\n",
       "322        Hong Kong    Hong Kong     7055071  2009     1\n",
       "229      Ho Chi Minh      Vietnam     5968384  2009     1\n",
       "554        Singapore    Singapore     5076700  2010     1\n",
       "409  Al Iskandariyah        Egypt     4123869  2006     1\n",
       "566       New Taipei       Taiwan     3939305  2012     1\n",
       "437            Busan  South Korea     3403135  2010     1\n",
       "270        Pyongyang  North Korea     3255288  2008     1"
      ]
     },
     "execution_count": 46,
     "metadata": {},
     "output_type": "execute_result"
    }
   ],
   "source": [
    "data = {'city':[], 'country':[], 'year':[], 'population':[]}\n",
    "\n",
    "# extract city name, population, and year from xml\n",
    "for country in document.iterfind('country'):\n",
    "    for city in country.iterfind('city'):     \n",
    "       for population in city.iterfind('population'):\n",
    "          data['country'].append(country.find('name').text)\n",
    "          data['city'].append(city.find('name').text)\n",
    "          data['year'].append(population.attrib['year'])\n",
    "          data['population'].append(int(population.text))    \n",
    "df = pd.DataFrame(data)\n",
    "df['rank'] = df.sort_values(['year'], ascending=False).groupby('city').cumcount()+1\n",
    "df[df['rank'] == 1].sort_values('population' , ascending = False).head(10)"
   ]
  },
  {
   "cell_type": "markdown",
   "metadata": {},
   "source": [
    "Exercise 3 - 10 ethnic groups with the largest overall populations (sum of best/latest estimates over all countries)"
   ]
  },
  {
   "cell_type": "code",
   "execution_count": 47,
   "metadata": {
    "collapsed": false
   },
   "outputs": [
    {
     "name": "stderr",
     "output_type": "stream",
     "text": [
      "C:\\Users\\rvenkat\\AppData\\Local\\Continuum\\Anaconda3\\lib\\site-packages\\ipykernel\\__main__.py:21: FutureWarning: sort(columns=....) is deprecated, use sort_values(by=.....)\n"
     ]
    },
    {
     "data": {
      "text/html": [
       "<div>\n",
       "<table border=\"1\" class=\"dataframe\">\n",
       "  <thead>\n",
       "    <tr style=\"text-align: right;\">\n",
       "      <th></th>\n",
       "      <th>population</th>\n",
       "    </tr>\n",
       "    <tr>\n",
       "      <th>group</th>\n",
       "      <th></th>\n",
       "    </tr>\n",
       "  </thead>\n",
       "  <tbody>\n",
       "    <tr>\n",
       "      <th>Han Chinese</th>\n",
       "      <td>1245058800</td>\n",
       "    </tr>\n",
       "    <tr>\n",
       "      <th>Indo-Aryan</th>\n",
       "      <td>871815583</td>\n",
       "    </tr>\n",
       "    <tr>\n",
       "      <th>European</th>\n",
       "      <td>494872201</td>\n",
       "    </tr>\n",
       "    <tr>\n",
       "      <th>African</th>\n",
       "      <td>318325104</td>\n",
       "    </tr>\n",
       "    <tr>\n",
       "      <th>Dravidian</th>\n",
       "      <td>302713744</td>\n",
       "    </tr>\n",
       "    <tr>\n",
       "      <th>Mestizo</th>\n",
       "      <td>157734349</td>\n",
       "    </tr>\n",
       "    <tr>\n",
       "      <th>Bengali</th>\n",
       "      <td>146776916</td>\n",
       "    </tr>\n",
       "    <tr>\n",
       "      <th>Russian</th>\n",
       "      <td>131856989</td>\n",
       "    </tr>\n",
       "    <tr>\n",
       "      <th>Japanese</th>\n",
       "      <td>126534212</td>\n",
       "    </tr>\n",
       "    <tr>\n",
       "      <th>Malay</th>\n",
       "      <td>121993548</td>\n",
       "    </tr>\n",
       "  </tbody>\n",
       "</table>\n",
       "</div>"
      ],
      "text/plain": [
       "             population\n",
       "group                  \n",
       "Han Chinese  1245058800\n",
       "Indo-Aryan    871815583\n",
       "European      494872201\n",
       "African       318325104\n",
       "Dravidian     302713744\n",
       "Mestizo       157734349\n",
       "Bengali       146776916\n",
       "Russian       131856989\n",
       "Japanese      126534212\n",
       "Malay         121993548"
      ]
     },
     "execution_count": 47,
     "metadata": {},
     "output_type": "execute_result"
    }
   ],
   "source": [
    "data = {'group':[], 'country':[], 'population':[]}\n",
    "for country in document.findall('country'):\n",
    "    name  = country.find('name').text\n",
    "    group = ''\n",
    "    population = 0\n",
    "    maxYear = -999999\n",
    "    for population  in country.iterfind('population'):\n",
    "        year = int(population.attrib['year'])\n",
    "        if year > maxYear:\n",
    "            maxYear = year\n",
    "            population = int(population.text)\n",
    "    for ethnicGroup  in country.iterfind('ethnicgroup'):\n",
    "         group = ethnicGroup.text\n",
    "         percentage = float(ethnicGroup.attrib['percentage'])\n",
    "         if group and percentage and population:\n",
    "                data['country'].append(name)\n",
    "                data['group'].append(group)\n",
    "                data['population'].append(int(population * percentage / 100.))\n",
    "df = pd.DataFrame(data)\n",
    "df = df.groupby('group')[['population']].sum()\n",
    "df.sort(columns='population', ascending=False).head(10)\n"
   ]
  },
  {
   "cell_type": "markdown",
   "metadata": {},
   "source": [
    "Exercise 4 - name and country of a) longest river, b) largest lake and c) airport at highest elevation"
   ]
  },
  {
   "cell_type": "code",
   "execution_count": 57,
   "metadata": {
    "collapsed": false
   },
   "outputs": [
    {
     "name": "stdout",
     "output_type": "stream",
     "text": [
      "Longest River:\n"
     ]
    },
    {
     "name": "stderr",
     "output_type": "stream",
     "text": [
      "C:\\Users\\rvenkat\\AppData\\Local\\Continuum\\Anaconda3\\lib\\site-packages\\ipykernel\\__main__.py:23: FutureWarning: sort(columns=....) is deprecated, use sort_values(by=.....)\n"
     ]
    },
    {
     "data": {
      "text/html": [
       "<div>\n",
       "<table border=\"1\" class=\"dataframe\">\n",
       "  <thead>\n",
       "    <tr style=\"text-align: right;\">\n",
       "      <th></th>\n",
       "      <th>name</th>\n",
       "      <th>country</th>\n",
       "      <th>length</th>\n",
       "    </tr>\n",
       "  </thead>\n",
       "  <tbody>\n",
       "    <tr>\n",
       "      <th>298</th>\n",
       "      <td>Amazonas</td>\n",
       "      <td>CO</td>\n",
       "      <td>6448.0</td>\n",
       "    </tr>\n",
       "    <tr>\n",
       "      <th>299</th>\n",
       "      <td>Amazonas</td>\n",
       "      <td>BR</td>\n",
       "      <td>6448.0</td>\n",
       "    </tr>\n",
       "    <tr>\n",
       "      <th>300</th>\n",
       "      <td>Amazonas</td>\n",
       "      <td>PE</td>\n",
       "      <td>6448.0</td>\n",
       "    </tr>\n",
       "  </tbody>\n",
       "</table>\n",
       "</div>"
      ],
      "text/plain": [
       "         name country  length\n",
       "298  Amazonas      CO  6448.0\n",
       "299  Amazonas      BR  6448.0\n",
       "300  Amazonas      PE  6448.0"
      ]
     },
     "execution_count": 57,
     "metadata": {},
     "output_type": "execute_result"
    }
   ],
   "source": [
    "rivers = {'country':[], 'name':[], 'length':[]}\n",
    "for river in document.findall('river'):    \n",
    "    code = river.attrib['country'] \n",
    "    name = ''\n",
    "    length = 0\n",
    "    for node in list(river):\n",
    "        if node.tag == 'name':           \n",
    "            name = node.text\n",
    "        elif node.tag == 'length':\n",
    "            length = float(node.text)\n",
    "    if name and code and length:\n",
    "        codes = code.split(' ') # some rivers cross multiple countries\n",
    "        for c in codes:\n",
    "            rivers['country'].append(c)\n",
    "            rivers['name'].append(name) # river name\n",
    "            rivers['length'].append(length)\n",
    "rivers = pd.DataFrame(rivers)\n",
    "rivers.head(10)\n",
    "\n",
    "\n",
    "# find the longest river\n",
    "grouped = rivers.groupby(['name'])[['length']].max()\n",
    "longest = grouped.sort('length', ascending=False).ix[0]\n",
    "\n",
    "# display info on longest river\n",
    "print ('Longest River:')\n",
    "rivers[rivers.name == longest.name][['name','country','length']]"
   ]
  },
  {
   "cell_type": "code",
   "execution_count": 59,
   "metadata": {
    "collapsed": false
   },
   "outputs": [
    {
     "name": "stdout",
     "output_type": "stream",
     "text": [
      "Largest Lake:\n",
      "\n"
     ]
    },
    {
     "name": "stderr",
     "output_type": "stream",
     "text": [
      "C:\\Users\\rvenkat\\AppData\\Local\\Continuum\\Anaconda3\\lib\\site-packages\\ipykernel\\__main__.py:24: FutureWarning: sort(columns=....) is deprecated, use sort_values(by=.....)\n"
     ]
    },
    {
     "data": {
      "text/html": [
       "<div>\n",
       "<table border=\"1\" class=\"dataframe\">\n",
       "  <thead>\n",
       "    <tr style=\"text-align: right;\">\n",
       "      <th></th>\n",
       "      <th>name</th>\n",
       "      <th>country</th>\n",
       "      <th>area</th>\n",
       "    </tr>\n",
       "  </thead>\n",
       "  <tbody>\n",
       "    <tr>\n",
       "      <th>68</th>\n",
       "      <td>Caspian Sea</td>\n",
       "      <td>R</td>\n",
       "      <td>386400.0</td>\n",
       "    </tr>\n",
       "    <tr>\n",
       "      <th>69</th>\n",
       "      <td>Caspian Sea</td>\n",
       "      <td>AZ</td>\n",
       "      <td>386400.0</td>\n",
       "    </tr>\n",
       "    <tr>\n",
       "      <th>70</th>\n",
       "      <td>Caspian Sea</td>\n",
       "      <td>KAZ</td>\n",
       "      <td>386400.0</td>\n",
       "    </tr>\n",
       "    <tr>\n",
       "      <th>71</th>\n",
       "      <td>Caspian Sea</td>\n",
       "      <td>IR</td>\n",
       "      <td>386400.0</td>\n",
       "    </tr>\n",
       "    <tr>\n",
       "      <th>72</th>\n",
       "      <td>Caspian Sea</td>\n",
       "      <td>TM</td>\n",
       "      <td>386400.0</td>\n",
       "    </tr>\n",
       "  </tbody>\n",
       "</table>\n",
       "</div>"
      ],
      "text/plain": [
       "           name country      area\n",
       "68  Caspian Sea       R  386400.0\n",
       "69  Caspian Sea      AZ  386400.0\n",
       "70  Caspian Sea     KAZ  386400.0\n",
       "71  Caspian Sea      IR  386400.0\n",
       "72  Caspian Sea      TM  386400.0"
      ]
     },
     "execution_count": 59,
     "metadata": {},
     "output_type": "execute_result"
    }
   ],
   "source": [
    "lakes = {'country':[], 'name':[], 'area':[]}\n",
    "\n",
    "for lake in document.findall('lake'):\n",
    "   \n",
    "    code = lake.attrib['country'] # country code, not country name\n",
    "    name = ''\n",
    "    area = 0\n",
    "    for node in list(lake):\n",
    "        if node.tag == 'name':           \n",
    "            name = node.text\n",
    "        elif node.tag == 'area':\n",
    "            area = float(node.text)\n",
    "    if name and code and area:\n",
    "        codes = code.split(' ')\n",
    "        for c in codes:\n",
    "            lakes['country'].append(c)\n",
    "            lakes['name'].append(name) # lake name\n",
    "            lakes['area'].append(area)\n",
    "\n",
    "# create a dataframe for the lakes\n",
    "df = pd.DataFrame(lakes)\n",
    "\n",
    "grouped = df.groupby(['name'])[['area']].max()\n",
    "largest = grouped.sort('area', ascending=False).ix[0].name\n",
    "\n",
    "# display info on longest river\n",
    "print ('Largest Lake:\\n')\n",
    "df[df.name == largest][['name','country','area']]\n"
   ]
  },
  {
   "cell_type": "code",
   "execution_count": 61,
   "metadata": {
    "collapsed": false
   },
   "outputs": [
    {
     "name": "stderr",
     "output_type": "stream",
     "text": [
      "C:\\Users\\rvenkat\\AppData\\Local\\Continuum\\Anaconda3\\lib\\site-packages\\ipykernel\\__main__.py:23: FutureWarning: sort(columns=....) is deprecated, use sort_values(by=.....)\n"
     ]
    },
    {
     "data": {
      "text/plain": [
       "country               BOL\n",
       "elevation            4063\n",
       "name         El Alto Intl\n",
       "Name: 80, dtype: object"
      ]
     },
     "execution_count": 61,
     "metadata": {},
     "output_type": "execute_result"
    }
   ],
   "source": [
    "airports_data = {'country':[], 'name':[], 'elevation':[]}\n",
    "\n",
    "for airports in document.findall('airport'):   \n",
    "    code = airports.attrib['country'] \n",
    "    name = ''\n",
    "    elev = 0\n",
    "    for airport in list(airports):\n",
    "        if airport.tag == 'name':           \n",
    "            name = airport.text\n",
    "        elif airport.tag == 'elevation':\n",
    "            if airport.text is not None:\n",
    "                elev = float(airport.text)\n",
    "            \n",
    "    if name and code and elev:\n",
    "        airports_data['country'].append(code)\n",
    "        airports_data['name'].append(name) \n",
    "        airports_data['elevation'].append(elev)\n",
    "\n",
    "\n",
    "df = pd.DataFrame(airports_data)\n",
    "\n",
    "grouped = df.groupby(['name'])[['elevation']].max()\n",
    "highest = grouped.sort('elevation', ascending=False).iloc[0].name\n",
    "airport = df[df.name == highest].iloc[0]\n",
    "airport\n",
    "\n",
    "\n"
   ]
  },
  {
   "cell_type": "code",
   "execution_count": null,
   "metadata": {
    "collapsed": true
   },
   "outputs": [],
   "source": []
  }
 ],
 "metadata": {
  "anaconda-cloud": {},
  "kernelspec": {
   "display_name": "Python [Root]",
   "language": "python",
   "name": "Python [Root]"
  },
  "language_info": {
   "codemirror_mode": {
    "name": "ipython",
    "version": 3
   },
   "file_extension": ".py",
   "mimetype": "text/x-python",
   "name": "python",
   "nbconvert_exporter": "python",
   "pygments_lexer": "ipython3",
   "version": "3.5.2"
  }
 },
 "nbformat": 4,
 "nbformat_minor": 0
}
