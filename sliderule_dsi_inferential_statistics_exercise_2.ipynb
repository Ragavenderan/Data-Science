{
 "cells": [
  {
   "cell_type": "markdown",
   "metadata": {},
   "source": [
    "\n",
    "### Examining racial discrimination in the US job market\n",
    "\n",
    "#### Background\n",
    "Racial discrimination continues to be pervasive in cultures throughout the world. Researchers examined the level of racial discrimination in the United States labor market by randomly assigning identical résumés black-sounding or white-sounding names and observing the impact on requests for interviews from employers.\n",
    "\n",
    "#### Data\n",
    "In the dataset provided, each row represents a resume. The 'race' column has two values, 'b' and 'w', indicating black-sounding and white-sounding. The column 'call' has two values, 1 and 0, indicating whether the resume received a call from employers or not.\n",
    "\n",
    "Note that the 'b' and 'w' values in race are assigned randomly to the resumes.\n",
    "\n",
    "#### Exercise\n",
    "You will perform a statistical analysis to establish whether race has a significant impact on the rate of callbacks for resumes.\n",
    "\n",
    "Answer the following questions **in this notebook below and submit to your Github account**. \n",
    "\n",
    "   1. What test is appropriate for this problem? Does CLT apply?\n",
    "   2. What are the null and alternate hypotheses?\n",
    "   3. Compute margin of error, confidence interval, and p-value.\n",
    "   4. Discuss statistical significance.\n",
    "\n",
    "You can include written notes in notebook cells using Markdown: \n",
    "   - In the control panel at the top, choose Cell > Cell Type > Markdown\n",
    "   - Markdown syntax: http://nestacms.com/docs/creating-content/markdown-cheat-sheet\n",
    "\n",
    "\n",
    "#### Resources\n",
    "+ Experiment information and data source: http://www.povertyactionlab.org/evaluation/discrimination-job-market-united-states\n",
    "+ Scipy statistical methods: http://docs.scipy.org/doc/scipy/reference/stats.html \n",
    "+ Markdown syntax: http://nestacms.com/docs/creating-content/markdown-cheat-sheet\n",
    "\n",
    "****"
   ]
  },
  {
   "cell_type": "code",
   "execution_count": 2,
   "metadata": {
    "collapsed": true
   },
   "outputs": [],
   "source": [
    "import pandas as pd\n",
    "import numpy as np\n",
    "from scipy import stats"
   ]
  },
  {
   "cell_type": "code",
   "execution_count": 5,
   "metadata": {
    "collapsed": false
   },
   "outputs": [],
   "source": [
    "data = pd.io.stata.read_stata('data/us_job_market_discrimination.dta')"
   ]
  },
  {
   "cell_type": "markdown",
   "metadata": {},
   "source": [
    "# 1. What test is appropriate for this problem? Does CLT apply?"
   ]
  },
  {
   "cell_type": "markdown",
   "metadata": {},
   "source": [
    "Yes, since the sample size is greater than 30. The appropriate test will be to test whether the proportion of interview callbacks between white and black differ significantly in the population or not."
   ]
  },
  {
   "cell_type": "markdown",
   "metadata": {},
   "source": [
    "# 2. What are the null and alternate hypotheses?"
   ]
  },
  {
   "cell_type": "raw",
   "metadata": {},
   "source": [
    "Null Hypothesis - H0: There is no difference in interview call back proportion between white/black sounding name candidates Alternate Hypothesis - H1 : There is a difference in call back proportion between white/black sounding name candidates"
   ]
  },
  {
   "cell_type": "markdown",
   "metadata": {},
   "source": [
    "# 3.Compute margin of error, confidence interval, and p-value."
   ]
  },
  {
   "cell_type": "code",
   "execution_count": 6,
   "metadata": {
    "collapsed": false
   },
   "outputs": [
    {
     "name": "stdout",
     "output_type": "stream",
     "text": [
      "0.09650924056768417 0.0644763857126236\n"
     ]
    }
   ],
   "source": [
    "# Sample proportions for white and block sounding names\n",
    "prop_white = data[data.race=='w'].call.mean()\n",
    "prop_black = data[data.race=='b'].call.mean()\n",
    "print( prop_white, prop_black)"
   ]
  },
  {
   "cell_type": "code",
   "execution_count": 7,
   "metadata": {
    "collapsed": false
   },
   "outputs": [
    {
     "name": "stdout",
     "output_type": "stream",
     "text": [
      "Standard Error is: 0.0078\n",
      "At 95% level of CI Margin of Error: 0.0153\n",
      "Confidence Interval: (0.016777448506376254, 0.047288261203744901)\n",
      "Z-statistic: 4.12\n"
     ]
    }
   ],
   "source": [
    "se = np.sqrt((prop_white*(1-prop_white))/len(data[data.race=='b']) + (prop_black*(1-prop_black))/len(data[data.race=='b']))\n",
    "\n",
    "print('Standard Error is:',round(se,4))\n",
    "\n",
    "me = 1.96 * se\n",
    "print ('At 95% level of CI Margin of Error:',round(me,4))\n",
    "\n",
    "CI = ((prop_white - prop_black)- me,(prop_white - prop_black)+ me)               \n",
    "print('Confidence Interval:',CI)\n",
    "\n",
    "z1 = (prop_white - prop_black)/se\n",
    "print('Z-statistic:',round(z1,2))"
   ]
  },
  {
   "cell_type": "code",
   "execution_count": 11,
   "metadata": {
    "collapsed": false
   },
   "outputs": [
    {
     "name": "stdout",
     "output_type": "stream",
     "text": [
      "8.216824297051467 0.0\n"
     ]
    }
   ],
   "source": [
    "# If we assume the null hypothesis the mean and variance of dist of difference:\n",
    "\n",
    "#Here we are finding the number of standard errors/deviation is the difference lying from the mean of h0\n",
    "mu_diff_h0 = 0\n",
    "mu_diff = prop_white - prop_black\n",
    "p = data.call.mean()\n",
    "n= len(data)\n",
    "sig_diff_h0 = (p*(1-p)/n)**0.5\n",
    "# The z-score for \n",
    "z_score = (mu_diff-mu_diff_h0)/sig_diff_h0\n",
    "p_value = round(1-stats.norm.cdf(z_score) , 10) #twosided\n",
    "\n",
    "print (z_score , p_value)"
   ]
  },
  {
   "cell_type": "code",
   "execution_count": null,
   "metadata": {
    "collapsed": true
   },
   "outputs": [],
   "source": []
  }
 ],
 "metadata": {
  "anaconda-cloud": {},
  "kernelspec": {
   "display_name": "Python [Root]",
   "language": "python",
   "name": "Python [Root]"
  },
  "language_info": {
   "codemirror_mode": {
    "name": "ipython",
    "version": 3
   },
   "file_extension": ".py",
   "mimetype": "text/x-python",
   "name": "python",
   "nbconvert_exporter": "python",
   "pygments_lexer": "ipython3",
   "version": "3.5.2"
  }
 },
 "nbformat": 4,
 "nbformat_minor": 0
}
